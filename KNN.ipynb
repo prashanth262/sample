{
 "cells": [
  {
   "cell_type": "code",
   "execution_count": 37,
   "id": "49b5574e-6321-4804-984b-309826069459",
   "metadata": {},
   "outputs": [
    {
     "name": "stdout",
     "output_type": "stream",
     "text": [
      "   pixel0  pixel1  pixel2  pixel3  pixel4  pixel5  pixel6  pixel7  pixel8  \\\n",
      "0       0       0       0       0       0       0       0       0       0   \n",
      "1       0       0       0       0       0       0       0       0       0   \n",
      "2       0       0       0       0       0       0       0       0       0   \n",
      "3       0       0       0       0       0       0       0       0       0   \n",
      "4       0       0       0       0       0       0       0       0       0   \n",
      "5       0       0       0       0       0       0       0       0       0   \n",
      "6       0       0       0       0       0       0       0       0       0   \n",
      "7       0       0       0       0       0       0       0       0       0   \n",
      "8       0       0       0       0       0       0       0       0       0   \n",
      "9       0       0       0       0       0       0       0       0       0   \n",
      "\n",
      "   pixel9  ...  pixel774  pixel775  pixel776  pixel777  pixel778  pixel779  \\\n",
      "0       0  ...         0         0         0         0         0         0   \n",
      "1       0  ...         0         0         0         0         0         0   \n",
      "2       0  ...         0         0         0         0         0         0   \n",
      "3       0  ...         0         0         0         0         0         0   \n",
      "4       0  ...         0         0         0         0         0         0   \n",
      "5       0  ...         0         0         0         0         0         0   \n",
      "6       0  ...         0         0         0         0         0         0   \n",
      "7       0  ...         0         0         0         0         0         0   \n",
      "8       0  ...         0         0         0         0         0         0   \n",
      "9       0  ...         0         0         0         0         0         0   \n",
      "\n",
      "   pixel780  pixel781  pixel782  pixel783  \n",
      "0         0         0         0         0  \n",
      "1         0         0         0         0  \n",
      "2         0         0         0         0  \n",
      "3         0         0         0         0  \n",
      "4         0         0         0         0  \n",
      "5         0         0         0         0  \n",
      "6         0         0         0         0  \n",
      "7         0         0         0         0  \n",
      "8         0         0         0         0  \n",
      "9         0         0         0         0  \n",
      "\n",
      "[10 rows x 784 columns]\n"
     ]
    }
   ],
   "source": [
    "import pandas as pd\n",
    "import numpy as np\n",
    "\n",
    "df1=pd.read_csv(\"Week7_test.csv\")\n",
    "print(df1.head(10))"
   ]
  },
  {
   "cell_type": "code",
   "execution_count": 12,
   "id": "09b28761-6f34-4a8d-9c25-624caffb355a",
   "metadata": {},
   "outputs": [
    {
     "name": "stdout",
     "output_type": "stream",
     "text": [
      "       pixel0  pixel1  pixel2  pixel3  pixel4  pixel5  pixel6  pixel7  pixel8  \\\n",
      "0           0       0       0       0       0       0       0       0       0   \n",
      "1           0       0       0       0       0       0       0       0       0   \n",
      "2           0       0       0       0       0       0       0       0       0   \n",
      "3           0       0       0       0       0       0       0       0       0   \n",
      "4           0       0       0       0       0       0       0       0       0   \n",
      "...       ...     ...     ...     ...     ...     ...     ...     ...     ...   \n",
      "27995       0       0       0       0       0       0       0       0       0   \n",
      "27996       0       0       0       0       0       0       0       0       0   \n",
      "27997       0       0       0       0       0       0       0       0       0   \n",
      "27998       0       0       0       0       0       0       0       0       0   \n",
      "27999       0       0       0       0       0       0       0       0       0   \n",
      "\n",
      "       pixel9  ...  pixel774  pixel775  pixel776  pixel777  pixel778  \\\n",
      "0           0  ...         0         0         0         0         0   \n",
      "1           0  ...         0         0         0         0         0   \n",
      "2           0  ...         0         0         0         0         0   \n",
      "3           0  ...         0         0         0         0         0   \n",
      "4           0  ...         0         0         0         0         0   \n",
      "...       ...  ...       ...       ...       ...       ...       ...   \n",
      "27995       0  ...         0         0         0         0         0   \n",
      "27996       0  ...         0         0         0         0         0   \n",
      "27997       0  ...         0         0         0         0         0   \n",
      "27998       0  ...         0         0         0         0         0   \n",
      "27999       0  ...         0         0         0         0         0   \n",
      "\n",
      "       pixel779  pixel780  pixel781  pixel782  pixel783  \n",
      "0             0         0         0         0         0  \n",
      "1             0         0         0         0         0  \n",
      "2             0         0         0         0         0  \n",
      "3             0         0         0         0         0  \n",
      "4             0         0         0         0         0  \n",
      "...         ...       ...       ...       ...       ...  \n",
      "27995         0         0         0         0         0  \n",
      "27996         0         0         0         0         0  \n",
      "27997         0         0         0         0         0  \n",
      "27998         0         0         0         0         0  \n",
      "27999         0         0         0         0         0  \n",
      "\n",
      "[28000 rows x 784 columns]\n"
     ]
    }
   ],
   "source": [
    "# df2=pd.read_csv(\"Week7_test.csv\")\n",
    "# print(df2)"
   ]
  },
  {
   "cell_type": "code",
   "execution_count": 38,
   "id": "3bba8ddb-1cbd-4b3e-8bf1-868213ad3371",
   "metadata": {},
   "outputs": [
    {
     "name": "stdout",
     "output_type": "stream",
     "text": [
      "        pixel0   pixel1   pixel2   pixel3   pixel4   pixel5   pixel6   pixel7  \\\n",
      "count  28000.0  28000.0  28000.0  28000.0  28000.0  28000.0  28000.0  28000.0   \n",
      "mean       0.0      0.0      0.0      0.0      0.0      0.0      0.0      0.0   \n",
      "std        0.0      0.0      0.0      0.0      0.0      0.0      0.0      0.0   \n",
      "min        0.0      0.0      0.0      0.0      0.0      0.0      0.0      0.0   \n",
      "25%        0.0      0.0      0.0      0.0      0.0      0.0      0.0      0.0   \n",
      "50%        0.0      0.0      0.0      0.0      0.0      0.0      0.0      0.0   \n",
      "75%        0.0      0.0      0.0      0.0      0.0      0.0      0.0      0.0   \n",
      "max        0.0      0.0      0.0      0.0      0.0      0.0      0.0      0.0   \n",
      "\n",
      "        pixel8   pixel9  ...      pixel774      pixel775      pixel776  \\\n",
      "count  28000.0  28000.0  ...  28000.000000  28000.000000  28000.000000   \n",
      "mean       0.0      0.0  ...      0.164607      0.073214      0.028036   \n",
      "std        0.0      0.0  ...      5.473293      3.616811      1.813602   \n",
      "min        0.0      0.0  ...      0.000000      0.000000      0.000000   \n",
      "25%        0.0      0.0  ...      0.000000      0.000000      0.000000   \n",
      "50%        0.0      0.0  ...      0.000000      0.000000      0.000000   \n",
      "75%        0.0      0.0  ...      0.000000      0.000000      0.000000   \n",
      "max        0.0      0.0  ...    253.000000    254.000000    193.000000   \n",
      "\n",
      "           pixel777      pixel778  pixel779  pixel780  pixel781  pixel782  \\\n",
      "count  28000.000000  28000.000000   28000.0   28000.0   28000.0   28000.0   \n",
      "mean       0.011250      0.006536       0.0       0.0       0.0       0.0   \n",
      "std        1.205211      0.807475       0.0       0.0       0.0       0.0   \n",
      "min        0.000000      0.000000       0.0       0.0       0.0       0.0   \n",
      "25%        0.000000      0.000000       0.0       0.0       0.0       0.0   \n",
      "50%        0.000000      0.000000       0.0       0.0       0.0       0.0   \n",
      "75%        0.000000      0.000000       0.0       0.0       0.0       0.0   \n",
      "max      187.000000    119.000000       0.0       0.0       0.0       0.0   \n",
      "\n",
      "       pixel783  \n",
      "count   28000.0  \n",
      "mean        0.0  \n",
      "std         0.0  \n",
      "min         0.0  \n",
      "25%         0.0  \n",
      "50%         0.0  \n",
      "75%         0.0  \n",
      "max         0.0  \n",
      "\n",
      "[8 rows x 784 columns]\n"
     ]
    }
   ],
   "source": [
    "print(df1.describe())"
   ]
  },
  {
   "cell_type": "code",
   "execution_count": 19,
   "id": "a15092d8-bdad-4c3e-87c4-f42f0d9ddef6",
   "metadata": {},
   "outputs": [
    {
     "name": "stdout",
     "output_type": "stream",
     "text": [
      "42000\n",
      "785\n"
     ]
    }
   ],
   "source": [
    "print(df1.shape[0])\n",
    "print(df1.shape[1])"
   ]
  },
  {
   "cell_type": "code",
   "execution_count": 39,
   "id": "fd19eefc-4356-4cee-be84-5a9f12bbba81",
   "metadata": {},
   "outputs": [
    {
     "name": "stdout",
     "output_type": "stream",
     "text": [
      "Index(['pixel0', 'pixel1', 'pixel2', 'pixel3', 'pixel4', 'pixel5', 'pixel6',\n",
      "       'pixel7', 'pixel8', 'pixel9',\n",
      "       ...\n",
      "       'pixel774', 'pixel775', 'pixel776', 'pixel777', 'pixel778', 'pixel779',\n",
      "       'pixel780', 'pixel781', 'pixel782', 'pixel783'],\n",
      "      dtype='object', length=784)\n"
     ]
    }
   ],
   "source": [
    "print(df1.columns)"
   ]
  },
  {
   "cell_type": "code",
   "execution_count": 22,
   "id": "1a31867a-990f-4f84-9a5b-4282ac879f52",
   "metadata": {},
   "outputs": [
    {
     "name": "stdout",
     "output_type": "stream",
     "text": [
      "Sampled dataset shape: (4200, 785)\n",
      "       label  pixel0  pixel1  pixel2  pixel3  pixel4  pixel5  pixel6  pixel7  \\\n",
      "5457       8       0       0       0       0       0       0       0       0   \n",
      "38509      1       0       0       0       0       0       0       0       0   \n",
      "25536      9       0       0       0       0       0       0       0       0   \n",
      "31803      9       0       0       0       0       0       0       0       0   \n",
      "39863      8       0       0       0       0       0       0       0       0   \n",
      "\n",
      "       pixel8  ...  pixel774  pixel775  pixel776  pixel777  pixel778  \\\n",
      "5457        0  ...         0         0         0         0         0   \n",
      "38509       0  ...         0         0         0         0         0   \n",
      "25536       0  ...         0         0         0         0         0   \n",
      "31803       0  ...         0         0         0         0         0   \n",
      "39863       0  ...         0         0         0         0         0   \n",
      "\n",
      "       pixel779  pixel780  pixel781  pixel782  pixel783  \n",
      "5457          0         0         0         0         0  \n",
      "38509         0         0         0         0         0  \n",
      "25536         0         0         0         0         0  \n",
      "31803         0         0         0         0         0  \n",
      "39863         0         0         0         0         0  \n",
      "\n",
      "[5 rows x 785 columns]\n"
     ]
    }
   ],
   "source": [
    "sampled_data = df1.sample(frac=0.1, random_state=42)\n",
    "print(\"Sampled dataset shape:\", sampled_data.shape)\n",
    "print(sampled_data.head())"
   ]
  },
  {
   "cell_type": "code",
   "execution_count": 40,
   "id": "4220373a-e6d7-427e-881b-1c676fddbd7c",
   "metadata": {},
   "outputs": [
    {
     "name": "stdout",
     "output_type": "stream",
     "text": [
      "4200\n",
      "785\n"
     ]
    }
   ],
   "source": [
    "print(sampled_data.shape[0])\n",
    "print(sampled_data.shape[1])"
   ]
  },
  {
   "cell_type": "code",
   "execution_count": 24,
   "id": "d2db4d5c-ba01-4ac6-9433-3b768f7340e3",
   "metadata": {},
   "outputs": [
    {
     "name": "stdout",
     "output_type": "stream",
     "text": [
      "       label  pixel0  pixel1  pixel2  pixel3  pixel4  pixel5  pixel6  pixel7  \\\n",
      "5457       8       0       0       0       0       0       0       0       0   \n",
      "38509      1       0       0       0       0       0       0       0       0   \n",
      "25536      9       0       0       0       0       0       0       0       0   \n",
      "31803      9       0       0       0       0       0       0       0       0   \n",
      "39863      8       0       0       0       0       0       0       0       0   \n",
      "\n",
      "       pixel8  ...  pixel774  pixel775  pixel776  pixel777  pixel778  \\\n",
      "5457        0  ...         0         0         0         0         0   \n",
      "38509       0  ...         0         0         0         0         0   \n",
      "25536       0  ...         0         0         0         0         0   \n",
      "31803       0  ...         0         0         0         0         0   \n",
      "39863       0  ...         0         0         0         0         0   \n",
      "\n",
      "       pixel779  pixel780  pixel781  pixel782  pixel783  \n",
      "5457          0         0         0         0         0  \n",
      "38509         0         0         0         0         0  \n",
      "25536         0         0         0         0         0  \n",
      "31803         0         0         0         0         0  \n",
      "39863         0         0         0         0         0  \n",
      "\n",
      "[5 rows x 785 columns]\n"
     ]
    }
   ],
   "source": [
    "print(sampled_data.head(5))"
   ]
  },
  {
   "cell_type": "code",
   "execution_count": 41,
   "id": "cf4ff82e-7296-4160-95fc-2b297c025987",
   "metadata": {},
   "outputs": [
    {
     "name": "stdout",
     "output_type": "stream",
     "text": [
      "Number of unique class labels: 1\n",
      "Unique class labels: [0]\n"
     ]
    }
   ],
   "source": [
    "import pandas as pd\n",
    "\n",
    "# # Assuming the class labels are in the last column (modify if needed)\n",
    "class_column = df1.columns[-1]  # Get the last column as class label\n",
    "\n",
    "# Find unique class labels\n",
    "unique_classes = sampled_data[class_column].unique()\n",
    "\n",
    "# Print the number of unique class labels\n",
    "print(\"Number of unique class labels:\", len(unique_classes))\n",
    "print(\"Unique class labels:\", unique_classes)\n"
   ]
  },
  {
   "cell_type": "code",
   "execution_count": 42,
   "id": "046a1d02-91df-4836-83ca-7333c40cdd41",
   "metadata": {},
   "outputs": [
    {
     "name": "stdout",
     "output_type": "stream",
     "text": [
      "Number of examples for each class label:\n",
      "pixel783\n",
      "0    28000\n",
      "Name: count, dtype: int64\n"
     ]
    }
   ],
   "source": [
    "# Count the number of examples for each class\n",
    "class_counts = df1[class_column].value_counts()\n",
    "\n",
    "# Print the results\n",
    "print(\"Number of examples for each class label:\")\n",
    "print(class_counts)"
   ]
  },
  {
   "cell_type": "code",
   "execution_count": 32,
   "id": "e6a44a38-5941-46c4-8718-614502765880",
   "metadata": {},
   "outputs": [
    {
     "name": "stdout",
     "output_type": "stream",
     "text": [
      "Shape of X (features): (42000, 784)\n",
      "Shape of Y (labels): (42000,)\n",
      "First 5 rows of X:\n",
      "   label  pixel0  pixel1  pixel2  pixel3  pixel4  pixel5  pixel6  pixel7  \\\n",
      "0      1       0       0       0       0       0       0       0       0   \n",
      "1      0       0       0       0       0       0       0       0       0   \n",
      "2      1       0       0       0       0       0       0       0       0   \n",
      "3      4       0       0       0       0       0       0       0       0   \n",
      "4      0       0       0       0       0       0       0       0       0   \n",
      "\n",
      "   pixel8  ...  pixel773  pixel774  pixel775  pixel776  pixel777  pixel778  \\\n",
      "0       0  ...         0         0         0         0         0         0   \n",
      "1       0  ...         0         0         0         0         0         0   \n",
      "2       0  ...         0         0         0         0         0         0   \n",
      "3       0  ...         0         0         0         0         0         0   \n",
      "4       0  ...         0         0         0         0         0         0   \n",
      "\n",
      "   pixel779  pixel780  pixel781  pixel782  \n",
      "0         0         0         0         0  \n",
      "1         0         0         0         0  \n",
      "2         0         0         0         0  \n",
      "3         0         0         0         0  \n",
      "4         0         0         0         0  \n",
      "\n",
      "[5 rows x 784 columns]\n",
      "First 5 values of Y:\n",
      "0    0\n",
      "1    0\n",
      "2    0\n",
      "3    0\n",
      "4    0\n",
      "Name: pixel783, dtype: int64\n"
     ]
    }
   ],
   "source": [
    "# Prepare X (features) and Y (labels)\n",
    "X = df1.drop(columns=[class_column])  # Drop label column to get features\n",
    "Y = df1[class_column]  # Extract label column\n",
    "\n",
    "# Print the shape of X and Y\n",
    "print(\"Shape of X (features):\", X.shape)\n",
    "print(\"Shape of Y (labels):\", Y.shape)\n",
    "\n",
    "# Display the first few rows\n",
    "print(\"First 5 rows of X:\")\n",
    "print(X.head())\n",
    "\n",
    "print(\"First 5 values of Y:\")\n",
    "print(Y.head())"
   ]
  },
  {
   "cell_type": "code",
   "execution_count": 43,
   "id": "d1ac0277-69a2-4e98-bdd8-54b8d0d20a28",
   "metadata": {},
   "outputs": [
    {
     "data": {
      "image/png": "[encoded data removed]",
      "text/plain": [
       "<Figure size 1000x500 with 5 Axes>"
      ]
     },
     "metadata": {},
     "output_type": "display_data"
    }
   ],
   "source": [
    "import p\n",
    "# Reshape and visualize the first 5 images (assuming 28x28 pixels for MNIST-like data)\n",
    "plt.figure(figsize=(10, 5))\n",
    "for i in range(5):\n",
    "    image = np.array(X.iloc[i]).reshape(28, 28)  # Modify based on image size\n",
    "    label = Y.iloc[i]\n",
    "    \n",
    "    plt.subplot(1, 5, i + 1)\n",
    "    plt.imshow(image, cmap='gray')\n",
    "    plt.title(f\"Label: {label}\")\n",
    "    plt.axis('off')\n",
    "\n",
    "plt.show()"
   ]
  },
  {
   "cell_type": "code",
   "execution_count": 44,
   "id": "dcfa4c5f-2bfd-4eb7-8a88-d53e539bd1e8",
   "metadata": {},
   "outputs": [
    {
     "name": "stdout",
     "output_type": "stream",
     "text": [
      "Training set shape: (31500, 784) (31500,)\n",
      "Validation set shape: (10500, 784) (10500,)\n"
     ]
    }
   ],
   "source": [
    "from sklearn.model_selection import train_test_split\n",
    "\n",
    "X_train, X_val, Y_train, Y_val = train_test_split(X, Y, test_size=0.25, random_state=42, stratify=Y)\n",
    "\n",
    "# Print the shape of the datasets\n",
    "print(\"Training set shape:\", X_train.shape, Y_train.shape)\n",
    "print(\"Validation set shape:\", X_val.shape, Y_val.shape)"
   ]
  },
  {
   "cell_type": "code",
   "execution_count": 47,
   "id": "5c6652b8-c456-4ce0-a86a-eae88621b1e9",
   "metadata": {},
   "outputs": [
    {
     "name": "stdout",
     "output_type": "stream",
     "text": [
      "KNN model trained successfully!\n"
     ]
    }
   ],
   "source": [
    "from sklearn.neighbors import KNeighborsClassifier\n",
    "from sklearn.preprocessing import StandardScaler\n",
    "\n",
    "# Standardize the features for better KNN performance\n",
    "scaler = StandardScaler()\n",
    "X_train_scaled = scaler.fit_transform(X_train)\n",
    "X_val_scaled = scaler.transform(X_val)\n",
    "\n",
    "# Initialize and train the KNN classifier\n",
    "model = KNeighborsClassifier()\n",
    "model.fit(X_train_scaled, Y_train)\n",
    "\n",
    "print(\"KNN model trained successfully!\")"
   ]
  },
  {
   "cell_type": "code",
   "execution_count": null,
   "id": "fc973e00-f8a3-443a-b4f0-d7a53964fea2",
   "metadata": {},
   "outputs": [],
   "source": []
  }
 ],
 "metadata": {
  "kernelspec": {
   "display_name": "Python 3 (ipykernel)",
   "language": "python",
   "name": "python3"
  },
  "language_info": {
   "codemirror_mode": {
    "name": "ipython",
    "version": 3
   },
   "file_extension": ".py",
   "mimetype": "text/x-python",
   "name": "python",
   "nbconvert_exporter": "python",
   "pygments_lexer": "ipython3",
   "version": "3.11.7"
  }
 },
 "nbformat": 4,
 "nbformat_minor": 5
}
